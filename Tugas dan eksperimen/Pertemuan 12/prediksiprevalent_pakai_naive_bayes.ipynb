{
  "nbformat": 4,
  "nbformat_minor": 0,
  "metadata": {
    "colab": {
      "provenance": []
    },
    "kernelspec": {
      "name": "python3",
      "display_name": "Python 3"
    },
    "language_info": {
      "name": "python"
    }
  },
  "cells": [
    {
      "cell_type": "code",
      "execution_count": null,
      "metadata": {
        "colab": {
          "base_uri": "https://localhost:8080/",
          "height": 1000
        },
        "id": "jJSY6CJbanJs",
        "outputId": "567047e4-847e-4672-ffd1-4f59fc9d9af2"
      },
      "outputs": [
        {
          "output_type": "stream",
          "name": "stdout",
          "text": [
            "   education  age    BMI  currentSmoker  prevalentHyp  heartRate\n",
            "0          4   33  21.61              1             0         75\n",
            "1          2   34  23.88              2             0         73\n",
            "2          1   34  21.50              1             0         75\n",
            "3          3   34  20.81              2             0         78\n",
            "4          3   34  29.04              1             0         63\n",
            "<class 'pandas.core.frame.DataFrame'>\n",
            "RangeIndex: 39 entries, 0 to 38\n",
            "Data columns (total 6 columns):\n",
            " #   Column         Non-Null Count  Dtype  \n",
            "---  ------         --------------  -----  \n",
            " 0   education      39 non-null     int64  \n",
            " 1   age            39 non-null     int64  \n",
            " 2   BMI            39 non-null     float64\n",
            " 3   currentSmoker  39 non-null     int64  \n",
            " 4   prevalentHyp   39 non-null     int64  \n",
            " 5   heartRate      39 non-null     int64  \n",
            "dtypes: float64(1), int64(5)\n",
            "memory usage: 2.0 KB\n",
            "None\n",
            "Confusion Matrix:\n",
            "[[7 5]\n",
            " [0 0]]\n",
            "\n",
            "Classification Report:\n",
            "              precision    recall  f1-score   support\n",
            "\n",
            "           0       1.00      0.58      0.74        12\n",
            "           1       0.00      0.00      0.00         0\n",
            "\n",
            "    accuracy                           0.58        12\n",
            "   macro avg       0.50      0.29      0.37        12\n",
            "weighted avg       1.00      0.58      0.74        12\n",
            "\n",
            "\n",
            "Accuracy Score:\n",
            "0.5833333333333334\n"
          ]
        },
        {
          "output_type": "stream",
          "name": "stderr",
          "text": [
            "/usr/local/lib/python3.10/dist-packages/sklearn/metrics/_classification.py:1531: UndefinedMetricWarning: Recall is ill-defined and being set to 0.0 in labels with no true samples. Use `zero_division` parameter to control this behavior.\n",
            "  _warn_prf(average, modifier, f\"{metric.capitalize()} is\", len(result))\n",
            "/usr/local/lib/python3.10/dist-packages/sklearn/metrics/_classification.py:1531: UndefinedMetricWarning: Recall is ill-defined and being set to 0.0 in labels with no true samples. Use `zero_division` parameter to control this behavior.\n",
            "  _warn_prf(average, modifier, f\"{metric.capitalize()} is\", len(result))\n",
            "/usr/local/lib/python3.10/dist-packages/sklearn/metrics/_classification.py:1531: UndefinedMetricWarning: Recall is ill-defined and being set to 0.0 in labels with no true samples. Use `zero_division` parameter to control this behavior.\n",
            "  _warn_prf(average, modifier, f\"{metric.capitalize()} is\", len(result))\n"
          ]
        },
        {
          "output_type": "display_data",
          "data": {
            "text/plain": [
              "<Figure size 640x480 with 1 Axes>"
            ],
            "image/png": "[encoded data removed]"
          },
          "metadata": {}
        }
      ],
      "source": [
        "import pandas as pd\n",
        "import numpy as np\n",
        "from sklearn.model_selection import train_test_split\n",
        "from sklearn.naive_bayes import GaussianNB\n",
        "from sklearn.metrics import classification_report, confusion_matrix, accuracy_score\n",
        "import seaborn as sns\n",
        "import matplotlib.pyplot as plt\n",
        "\n",
        "# Membuat DataFrame dari dataset\n",
        "data = \"\"\"\n",
        "education,age,BMI,currentSmoker,prevalentHyp,heartRate\n",
        "4,33,21.61,1,0,75\n",
        "2,34,23.88,2,0,73\n",
        "1,34,21.5,1,0,75\n",
        "3,34,20.81,2,0,78\n",
        "3,34,29.04,1,0,63\n",
        "2,34,24.39,1,0,68\n",
        "1,34,20.79,1,0,63\n",
        "2,35,22,2,0,65\n",
        "1,35,25.71,1,0,65\n",
        "1,35,22.78,1,0,72\n",
        "1,35,19.64,2,0,71\n",
        "2,35,23.74,1,0,60\n",
        "1,35,21.03,1,0,73\n",
        "3,35,23.09,1,0,83\n",
        "2,35,24.55,2,0,61\n",
        "2,35,20.64,2,0,90\n",
        "3,35,22.91,2,0,55\n",
        "2,35,23.1,1,0,110\n",
        "2,35,26.09,1,1,73\n",
        "2,35,26.59,1,1,102\n",
        "2,36,28.15,1,0,60\n",
        "1,36,27.78,2,0,71\n",
        "1,36,22.73,1,0,70\n",
        "3,36,21.93,2,0,71\n",
        "2,36,20.41,1,0,72\n",
        "4,36,18.99,1,0,96\n",
        "1,36,23.71,1,0,50\n",
        "2,36,22.53,1,0,73\n",
        "3,36,23.86,1,0,88\n",
        "1,36,25.14,1,0,50\n",
        "4,36,26.23,2,0,75\n",
        "4,36,25.84,1,0,75\n",
        "1,36,27.08,2,0,73\n",
        "3,36,26.03,2,0,75\n",
        "1,36,26.13,2,0,86\n",
        "2,36,20.87,1,0,75\n",
        "3,36,33.36,2,0,55\n",
        "1,36,25.07,1,0,68\n",
        "1,36,24.33,1,1,80\n",
        "\"\"\"\n",
        "\n",
        "# Mengubah data menjadi DataFrame\n",
        "from io import StringIO\n",
        "df = pd.read_csv(StringIO(data))\n",
        "\n",
        "# Menampilkan informasi dataset\n",
        "print(df.head())\n",
        "print(df.info())\n",
        "\n",
        "# Memisahkan fitur dan target\n",
        "X = df[[\"education\", \"age\", \"BMI\", \"currentSmoker\", \"heartRate\"]]\n",
        "y = df[\"prevalentHyp\"]\n",
        "\n",
        "# Membagi data menjadi training dan testing\n",
        "X_train, X_test, y_train, y_test = train_test_split(X, y, test_size=0.3, random_state=42)\n",
        "\n",
        "# Inisialisasi model Naive Bayes\n",
        "model = GaussianNB()\n",
        "model.fit(X_train, y_train)\n",
        "\n",
        "# Prediksi data uji\n",
        "y_pred = model.predict(X_test)\n",
        "\n",
        "# Evaluasi model\n",
        "print(\"Confusion Matrix:\")\n",
        "print(confusion_matrix(y_test, y_pred))\n",
        "print(\"\\nClassification Report:\")\n",
        "print(classification_report(y_test, y_pred))\n",
        "print(\"\\nAccuracy Score:\")\n",
        "print(accuracy_score(y_test, y_pred))\n",
        "\n",
        "# Visualisasi hasil prediksi\n",
        "sns.scatterplot(x=X_test[\"BMI\"], y=X_test[\"heartRate\"], hue=y_pred, palette=\"viridis\")\n",
        "plt.title(\"Prediksi Prevalent Hyp menggunakan Naive Bayes\")\n",
        "plt.xlabel(\"BMI\")\n",
        "plt.ylabel(\"Heart Rate\")\n",
        "plt.show()\n"
      ]
    }
  ]
}